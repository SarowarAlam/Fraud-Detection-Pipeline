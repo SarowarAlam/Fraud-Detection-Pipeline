{
 "cells": [
  {
   "cell_type": "code",
   "execution_count": null,
   "metadata": {},
   "outputs": [],
   "source": [
    "import pandas as pd\n",
    "import numpy as np\n",
    "import logging\n",
    "from sklearn.model_selection import train_test_split\n",
    "from sklearn.ensemble import RandomForestClassifier\n",
    "from sklearn.metrics import accuracy_score, precision_score, recall_score, f1_score\n",
    "import joblib"
   ]
  },
  {
   "cell_type": "code",
   "execution_count": null,
   "metadata": {},
   "outputs": [],
   "source": [
    "# Configure logging\n",
    "logging.basicConfig(level=logging.INFO, format='%(asctime)s - %(levelname)s - %(message)s')\n",
    "\n",
    "# Generate synthetic transaction data\n",
    "def generate_synthetic_data(n=10000):\n",
    "    np.random.seed(42)\n",
    "    data = {\n",
    "        'transaction_id': np.arange(n),\n",
    "        'amount': np.random.uniform(1, 1000, n),\n",
    "        'time_of_day': np.random.randint(0, 24, n),\n",
    "        'transaction_frequency': np.random.randint(1, 20, n),\n",
    "        'location_change': np.random.randint(0, 2, n),\n",
    "        'is_fraud': np.random.choice([0, 1], size=n, p=[0.95, 0.05])\n",
    "    }\n",
    "    return pd.DataFrame(data)\n",
    "\n",
    "# Load and preprocess data\n",
    "data = generate_synthetic_data()\n",
    "X = data[['amount', 'time_of_day', 'transaction_frequency', 'location_change']]\n",
    "y = data['is_fraud']\n",
    "X_train, X_test, y_train, y_test = train_test_split(X, y, test_size=0.2, random_state=42)\n",
    "\n",
    "# Train a fraud detection model\n",
    "model = RandomForestClassifier(n_estimators=100, random_state=42)\n",
    "model.fit(X_train, y_train)\n",
    "\n",
    "# Evaluate model\n",
    "y_pred = model.predict(X_test)\n",
    "logging.info(f\"Accuracy: {accuracy_score(y_test, y_pred):.2f}\")\n",
    "logging.info(f\"Precision: {precision_score(y_test, y_pred):.2f}\")\n",
    "logging.info(f\"Recall: {recall_score(y_test, y_pred):.2f}\")\n",
    "logging.info(f\"F1 Score: {f1_score(y_test, y_pred):.2f}\")\n",
    "\n",
    "# Save model\n",
    "joblib.dump(model, 'fraud_detection_model.pkl')\n",
    "logging.info(\"Model saved successfully!\")"
   ]
  }
 ],
 "metadata": {
  "language_info": {
   "name": "python"
  }
 },
 "nbformat": 4,
 "nbformat_minor": 2
}
