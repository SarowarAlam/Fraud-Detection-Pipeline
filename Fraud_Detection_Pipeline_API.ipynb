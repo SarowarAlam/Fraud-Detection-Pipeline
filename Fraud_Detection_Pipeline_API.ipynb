{
 "cells": [
  {
   "cell_type": "code",
   "execution_count": null,
   "metadata": {},
   "outputs": [],
   "source": [
    "from flask import Flask, request, jsonify\n",
    "from functools import wraps\n",
    "import logging"
   ]
  },
  {
   "cell_type": "code",
   "execution_count": null,
   "metadata": {},
   "outputs": [],
   "source": [
    "# Load the model for inference\n",
    "model = joblib.load('fraud_detection_model.pkl')\n",
    "\n",
    "# Initialize Flask app\n",
    "app = Flask(__name__)\n",
    "\n",
    "# Authentication decorator\n",
    "def authenticate(f):\n",
    "    @wraps(f)\n",
    "    def decorated_function(*args, **kwargs):\n",
    "        auth = request.headers.get(\"Authorization\")\n",
    "        if not auth or auth != \"Bearer secure_token\":\n",
    "            return jsonify({\"message\": \"Unauthorized\"}), 401\n",
    "        return f(*args, **kwargs)\n",
    "    return decorated_function\n",
    "\n",
    "@app.route('/predict', methods=['POST'])\n",
    "@authenticate\n",
    "def predict():\n",
    "    data = request.get_json()\n",
    "    features = np.array([data['amount'], data['time_of_day'], data['transaction_frequency'], data['location_change']]).reshape(1, -1)\n",
    "    prediction = model.predict(features)[0]\n",
    "    logging.info(f\"Transaction predicted: {data}, Fraud: {prediction}\")\n",
    "    \n",
    "    if prediction == 1:\n",
    "        logging.warning(f\"Fraudulent transaction detected: {data}\")\n",
    "    \n",
    "    return jsonify({'fraud_prediction': int(prediction)})\n",
    "\n",
    "if __name__ == '__main__':\n",
    "    app.run(debug=True)"
   ]
  }
 ],
 "metadata": {
  "language_info": {
   "name": "python"
  }
 },
 "nbformat": 4,
 "nbformat_minor": 2
}
